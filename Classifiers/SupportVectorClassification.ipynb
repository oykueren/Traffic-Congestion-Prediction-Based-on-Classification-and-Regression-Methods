{
 "cells": [
  {
   "cell_type": "code",
   "execution_count": 1,
   "metadata": {},
   "outputs": [],
   "source": [
    "import pandas as pd\n",
    "import numpy as np\n",
    "from sklearn.model_selection import train_test_split\n",
    "from sklearn.svm import SVR\n",
    "from sklearn.metrics import classification_report, confusion_matrix\n",
    "from sklearn.svm import SVC\n",
    "from sklearn.metrics import accuracy_score\n",
    "from sklearn.ensemble import RandomForestClassifier\n",
    "from sklearn.model_selection import GridSearchCV\n",
    "from sklearn.preprocessing import StandardScaler\n",
    "import joblib\n",
    "import os\n",
    "import pandas as pd\n",
    "from sklearn.ensemble import RandomForestClassifier\n",
    "from sklearn.metrics import accuracy_score\n"
   ]
  },
  {
   "cell_type": "code",
   "execution_count": 2,
   "metadata": {},
   "outputs": [
    {
     "data": {
      "text/plain": [
       "['SVC.joblib']"
      ]
     },
     "execution_count": 2,
     "metadata": {},
     "output_type": "execute_result"
    }
   ],
   "source": [
    "# Function to load data\n",
    "def load_data(file_name):\n",
    "    # Relative path from script to data files\n",
    "    relative_path = os.path.join('Data Preperation', 'Labelled Data', f'{file_name}.csv')\n",
    "    data = pd.read_csv(relative_path)\n",
    "        \n",
    "    data[\"Timestamp\"] = pd.to_datetime(data[\"Timestamp\"])\n",
    "    \n",
    "    # Conditionally filter for January 2nd if the file is bursa01_cleaned\n",
    "    if file_name == 'bursa01_cleaned':\n",
    "        data = data[data['Timestamp'].dt.month == 1]  # Filter for January\n",
    "        data = data[data['Timestamp'].dt.day == 2]    # Filter for 2nd day\n",
    "        data = data.sample(26000)\n",
    "    else:\n",
    "        data = data.sample(frac=0.2)\n",
    "    data.drop([\"Taxi ID\", \"Timestamp\"], axis=1, inplace=True)\n",
    "    X = data.drop('Traffic_Label', axis=1)\n",
    "    y = data['Traffic_Label']\n",
    "    return X, y\n",
    "\n",
    "# Step 2: Load Training Data\n",
    "X_train, y_train = load_data('bursa01_cleaned')\n",
    "\n",
    "# Step 3: Train Model       \n",
    "model = SVC(kernel='rbf', C = 1, gamma=2)\n",
    "model.fit(X_train, y_train)\n",
    "model_filename = 'SVC.joblib'\n",
    "joblib.dump(model, model_filename)\n"
   ]
  },
  {
   "cell_type": "code",
   "execution_count": 3,
   "metadata": {},
   "outputs": [
    {
     "name": "stdout",
     "output_type": "stream",
     "text": [
      "Results for bursa02_cleaned:\n",
      "Accuracy: 0.2510207957458931\n",
      "\n",
      "Results for bursa03_cleaned:\n",
      "Accuracy: 0.2616688275606594\n",
      "\n",
      "Results for bursa04_cleaned:\n",
      "Accuracy: 0.2528719263267825\n",
      "\n",
      "Results for bursa05_cleaned:\n",
      "Accuracy: 0.26117736494512284\n",
      "\n",
      "Results for bursa06_cleaned:\n",
      "Accuracy: 0.22165568329404975\n",
      "\n",
      "Results for bursa07_cleaned:\n",
      "Accuracy: 0.25144074773596786\n",
      "\n",
      "Results for bursa08_cleaned:\n",
      "Accuracy: 0.24669364390051324\n",
      "\n",
      "Results for bursa09_cleaned:\n",
      "Accuracy: 0.27361671811921157\n",
      "\n",
      "Results for bursa10_cleaned:\n",
      "Accuracy: 0.24382786473782686\n",
      "\n",
      "Results for bursa11_cleaned:\n",
      "Accuracy: 0.22398762654668167\n",
      "\n",
      "Results for bursa12_cleaned:\n",
      "Accuracy: 0.41342664593053396\n",
      "\n"
     ]
    }
   ],
   "source": [
    "for i in range(2, 13):  # Loop from bursa02_cleaned to bursa12_cleaned\n",
    "    file_name = f'bursa{i:02d}_cleaned'\n",
    "    X_test, y_test = load_data(file_name)\n",
    "    predictions = model.predict(X_test)\n",
    "\n",
    "    # Step 5: Evaluate Results\n",
    "    accuracy = accuracy_score(y_test, predictions)\n",
    "    print(f'Results for {file_name}:')\n",
    "    print(f'Accuracy: {accuracy}\\n')"
   ]
  }
 ],
 "metadata": {
  "kernelspec": {
   "display_name": "Python 3",
   "language": "python",
   "name": "python3"
  },
  "language_info": {
   "codemirror_mode": {
    "name": "ipython",
    "version": 3
   },
   "file_extension": ".py",
   "mimetype": "text/x-python",
   "name": "python",
   "nbconvert_exporter": "python",
   "pygments_lexer": "ipython3",
   "version": "3.11.4"
  }
 },
 "nbformat": 4,
 "nbformat_minor": 2
}
