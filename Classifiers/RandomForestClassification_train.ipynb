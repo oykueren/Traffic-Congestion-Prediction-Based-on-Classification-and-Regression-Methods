{
 "cells": [
  {
   "cell_type": "code",
   "execution_count": 1,
   "metadata": {},
   "outputs": [],
   "source": [
    "import pandas as pd\n",
    "import numpy as np\n",
    "from sklearn.model_selection import train_test_split\n",
    "from sklearn.svm import SVR\n",
    "from sklearn.metrics import classification_report, confusion_matrix\n",
    "from sklearn.svm import SVC\n",
    "from sklearn.metrics import accuracy_score\n",
    "from sklearn.ensemble import RandomForestClassifier\n",
    "from sklearn.model_selection import GridSearchCV\n",
    "from sklearn.preprocessing import StandardScaler\n",
    "import joblib\n",
    "import os\n",
    "import pandas as pd\n",
    "from sklearn.ensemble import RandomForestClassifier\n",
    "from sklearn.metrics import accuracy_score\n"
   ]
  },
  {
   "cell_type": "code",
   "execution_count": 2,
   "metadata": {},
   "outputs": [
    {
     "data": {
      "text/plain": [
       "['RandomForestClassifier.joblib']"
      ]
     },
     "execution_count": 2,
     "metadata": {},
     "output_type": "execute_result"
    }
   ],
   "source": [
    "# Function to load data\n",
    "def load_data(file_name):\n",
    "    # Relative path from script to data files\n",
    "    relative_path = os.path.join('Data Preperation', 'Labelled Data', f'{file_name}.csv')\n",
    "    data = pd.read_csv(relative_path)\n",
    "        \n",
    "    data[\"Timestamp\"] = pd.to_datetime(data[\"Timestamp\"])\n",
    "\n",
    "    # Conditionally filter for January 2nd if the file is bursa01_cleaned\n",
    "    if file_name == 'bursa01_cleaned':\n",
    "        data = data[data['Timestamp'].dt.month == 1]  # Filter for January\n",
    "        data = data[data['Timestamp'].dt.day == 2]    # Filter for 2nd day\n",
    "        data = data.sample(26000)\n",
    "    data.drop([\"Taxi ID\", \"Timestamp\"], axis=1, inplace=True)\n",
    "    X = data.drop('Traffic_Label', axis=1)\n",
    "    y = data['Traffic_Label']\n",
    "    return X, y\n",
    "\n",
    "    \n",
    "\n",
    "# Step 2: Load Training Data\n",
    "X_train, y_train = load_data('bursa01_cleaned')\n",
    "\n",
    "# Step 3: Train Model       \n",
    "model = RandomForestClassifier()  # Example model\n",
    "model.fit(X_train, y_train)\n",
    "model_filename = 'RandomForestClassifier.joblib'\n",
    "joblib.dump(model, model_filename)\n"
   ]
  },
  {
   "cell_type": "code",
   "execution_count": 3,
   "metadata": {},
   "outputs": [
    {
     "data": {
      "text/plain": [
       "['RandomForestClassifierMixed.joblib']"
      ]
     },
     "execution_count": 3,
     "metadata": {},
     "output_type": "execute_result"
    }
   ],
   "source": [
    "import os\n",
    "import pandas as pd\n",
    "from sklearn.ensemble import RandomForestClassifier\n",
    "from sklearn.metrics import accuracy_score\n",
    "\n",
    "# Function to load data\n",
    "def load_data(file_name):\n",
    "    relative_path = os.path.join('Data Preperation', 'Labelled Data', f'{file_name}.csv')\n",
    "    data = pd.read_csv(relative_path)\n",
    "    data[\"Timestamp\"] = pd.to_datetime(data[\"Timestamp\"])\n",
    "    if file_name == 'bursa01_cleaned':\n",
    "        data = data[data['Timestamp'].dt.month == 1]  # Filter for January\n",
    "        data = data[data['Timestamp'].dt.day == 2]    # Filter for 2nd day\n",
    "        data = data.sample(8000)\n",
    "\n",
    "    elif file_name == \"bursa06_cleaned\":\n",
    "        data = data.sample(10000)\n",
    "\n",
    "    elif file_name == \"bursa12_cleaned\":\n",
    "        data = data.sample(8000)\n",
    "\n",
    "    data.drop([\"Taxi ID\", \"Timestamp\"], axis=1, inplace=True)\n",
    "    X = data.drop('Traffic_Label', axis=1)\n",
    "    y = data['Traffic_Label']\n",
    "    return X, y\n",
    "\n",
    "# Step 1: Concatenate bursa01 and bursa6 for Training\n",
    "X_train_01, y_train_01 = load_data('bursa01_cleaned')\n",
    "X_train_06, y_train_06 = load_data('bursa06_cleaned')\n",
    "X_train_12, y_train_12 = load_data('bursa12_cleaned')\n",
    "\n",
    "\n",
    "X_train = pd.concat([X_train_01, X_train_06, X_train_12], axis=0)\n",
    "y_train = pd.concat([y_train_01, y_train_06, y_train_12], axis=0)\n",
    "\n",
    "# Step 2: Train Model\n",
    "model = RandomForestClassifier()\n",
    "model.fit(X_train, y_train)\n",
    "model_filename = \"RandomForestClassifierMixed.joblib\"\n",
    "joblib.dump(model, model_filename)\n",
    "\n"
   ]
  }
 ],
 "metadata": {
  "kernelspec": {
   "display_name": "Python 3",
   "language": "python",
   "name": "python3"
  },
  "language_info": {
   "codemirror_mode": {
    "name": "ipython",
    "version": 3
   },
   "file_extension": ".py",
   "mimetype": "text/x-python",
   "name": "python",
   "nbconvert_exporter": "python",
   "pygments_lexer": "ipython3",
   "version": "3.11.4"
  }
 },
 "nbformat": 4,
 "nbformat_minor": 2
}
