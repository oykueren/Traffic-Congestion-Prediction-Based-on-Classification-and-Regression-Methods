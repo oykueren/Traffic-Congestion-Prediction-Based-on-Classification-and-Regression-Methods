{
 "cells": [
  {
   "cell_type": "code",
   "execution_count": null,
   "metadata": {},
   "outputs": [],
   "source": [
    "import os\n",
    "import pandas as pd\n",
    "import numpy as np\n",
    "from st_dbscan import ST_DBSCAN\n",
    "from coordinates import convert_to_utm\n",
    "from sklearn.preprocessing import StandardScaler\n",
    "from label_data import process_csv\n",
    "\n",
    "# Directory paths\n",
    "data_preparation_dir = \"Data Preparation\"\n",
    "clean_data_dir = os.path.join(data_preparation_dir, \"CleanData\")\n",
    "labelled_data_dir = os.path.join(data_preparation_dir, \"Labelled Data\")\n",
    "\n",
    "# Create Labelled Data directory if it doesn't exist\n",
    "if not os.path.exists(labelled_data_dir):\n",
    "    os.makedirs(labelled_data_dir)\n",
    "\n",
    "# Process each CSV file in the CleanData folder\n",
    "for file in os.listdir(clean_data_dir):\n",
    "    if file.endswith(\".csv\"):\n",
    "        input_file_path = os.path.join(clean_data_dir, file)\n",
    "        output_file_name = \"labelled_\" + file\n",
    "        output_file_path = os.path.join(labelled_data_dir, output_file_name)\n",
    "        \n",
    "        # Process and save the labelled data\n",
    "        process_csv(input_file_path, output_file_path)\n"
   ]
  }
 ],
 "metadata": {
  "kernelspec": {
   "display_name": "Python 3",
   "language": "python",
   "name": "python3"
  },
  "language_info": {
   "name": "python",
   "version": "3.11.4"
  }
 },
 "nbformat": 4,
 "nbformat_minor": 2
}
