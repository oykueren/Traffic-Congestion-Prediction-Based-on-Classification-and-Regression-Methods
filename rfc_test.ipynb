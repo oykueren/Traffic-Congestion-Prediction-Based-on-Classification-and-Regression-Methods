{
 "cells": [
  {
   "cell_type": "code",
   "execution_count": 1,
   "metadata": {},
   "outputs": [],
   "source": [
    "import pandas as pd\n",
    "import numpy as np\n",
    "from sklearn.model_selection import train_test_split\n",
    "from sklearn.svm import SVR\n",
    "from sklearn.metrics import classification_report, confusion_matrix\n",
    "from sklearn.svm import SVC\n",
    "from sklearn.metrics import accuracy_score\n",
    "from sklearn.ensemble import RandomForestClassifier\n",
    "from sklearn.model_selection import GridSearchCV\n",
    "from sklearn.preprocessing import StandardScaler\n",
    "import joblib\n",
    "import os\n",
    "import pandas as pd\n",
    "from sklearn.ensemble import RandomForestClassifier\n",
    "from sklearn.metrics import accuracy_score\n"
   ]
  },
  {
   "cell_type": "code",
   "execution_count": 2,
   "metadata": {},
   "outputs": [],
   "source": [
    "def load_data(file_name):\n",
    "    # Relative path from script to data files\n",
    "    relative_path = os.path.join('Data Preperation', 'Labelled Data', f'{file_name}.csv')\n",
    "    data = pd.read_csv(relative_path)\n",
    "    \n",
    "    data[\"Timestamp\"] = pd.to_datetime(data[\"Timestamp\"])\n",
    "\n",
    "    # Conditionally filter for January 2nd if the file is bursa01_cleaned\n",
    "    if file_name == 'bursa01_cleaned':\n",
    "        data = data[data['Timestamp'].dt.month == 1]  # Filter for January\n",
    "        data = data[data['Timestamp'].dt.day == 2]    # Filter for 2nd day\n",
    "        data = data.sample(26000)\n",
    "    data.drop([\"Taxi ID\", \"Timestamp\"], axis=1, inplace=True)\n",
    "    X = data.drop('Traffic_Label', axis=1)\n",
    "    y = data['Traffic_Label']\n",
    "    return X, y\n"
   ]
  },
  {
   "cell_type": "code",
   "execution_count": 3,
   "metadata": {},
   "outputs": [],
   "source": [
    "model_filename = 'RandomForestClassifier.joblib'\n",
    "model = joblib.load(model_filename)"
   ]
  },
  {
   "cell_type": "code",
   "execution_count": 4,
   "metadata": {},
   "outputs": [
    {
     "name": "stdout",
     "output_type": "stream",
     "text": [
      "Results for bursa02_cleaned:\n",
      "Accuracy: 0.6346431420214989\n",
      "\n",
      "Results for bursa03_cleaned:\n",
      "Accuracy: 0.6249398036673458\n",
      "\n",
      "Results for bursa04_cleaned:\n",
      "Accuracy: 0.62594347235804\n",
      "\n",
      "Results for bursa05_cleaned:\n",
      "Accuracy: 0.6221527467619473\n",
      "\n",
      "Results for bursa06_cleaned:\n",
      "Accuracy: 0.5847306800581066\n",
      "\n",
      "Results for bursa07_cleaned:\n",
      "Accuracy: 0.6472468400406799\n",
      "\n",
      "Results for bursa08_cleaned:\n",
      "Accuracy: 0.6318225784164709\n",
      "\n",
      "Results for bursa09_cleaned:\n",
      "Accuracy: 0.5888806565598997\n",
      "\n",
      "Results for bursa10_cleaned:\n",
      "Accuracy: 0.593674987450372\n",
      "\n",
      "Results for bursa11_cleaned:\n",
      "Accuracy: 0.5717271892165501\n",
      "\n",
      "Results for bursa12_cleaned:\n",
      "Accuracy: 0.5271159092529112\n",
      "\n"
     ]
    }
   ],
   "source": [
    "for i in range(2, 13):  # Loop from bursa02_cleaned to bursa12_cleaned\n",
    "    file_name = f'bursa{i:02d}_cleaned'\n",
    "    X_test, y_test = load_data(file_name)\n",
    "    predictions = model.predict(X_test)\n",
    "\n",
    "    # Step 5: Evaluate Results\n",
    "    accuracy = accuracy_score(y_test, predictions)\n",
    "    print(f'Results for {file_name}:')\n",
    "    print(f'Accuracy: {accuracy}\\n')"
   ]
  },
  {
   "cell_type": "code",
   "execution_count": 5,
   "metadata": {},
   "outputs": [],
   "source": [
    "def load_data(file_name):\n",
    "    relative_path = os.path.join('Data Preperation', 'Labelled Data', f'{file_name}.csv')\n",
    "    data = pd.read_csv(relative_path)\n",
    "    data[\"Timestamp\"] = pd.to_datetime(data[\"Timestamp\"])\n",
    "    if file_name == 'bursa01_cleaned':\n",
    "        data = data[data['Timestamp'].dt.month == 1]  # Filter for January\n",
    "        data = data[data['Timestamp'].dt.day == 2]    # Filter for 2nd day\n",
    "        data = data.sample(13000)\n",
    "\n",
    "    elif file_name == \"bursa06_cleaned\":\n",
    "        data = data.sample(13000)\n",
    "\n",
    "    data.drop([\"Taxi ID\", \"Timestamp\"], axis=1, inplace=True)\n",
    "    X = data.drop('Traffic_Label', axis=1)\n",
    "    y = data['Traffic_Label']\n",
    "    return X, y"
   ]
  },
  {
   "cell_type": "code",
   "execution_count": 6,
   "metadata": {},
   "outputs": [
    {
     "name": "stdout",
     "output_type": "stream",
     "text": [
      "['.git', '.ipynb_checkpoints', 'backto_dbscan.ipynb', 'bursadata.zip', 'cleaned_data', 'Clean_Data', 'cluster.ipynb', 'complex.ipynb', 'concat_csv_files.ipynb', 'concat_label_files.ipynb', 'coordinates.py', 'Data Preperation', 'Data Preperation.zip', 'data_for_nn.ipynb', 'data_time.csv', 'dbcsandata_labeled', 'february.csv', 'Group_2', 'Group_2 - Shortcut.lnk', 'imdat.ipynb', 'JAN-JUN.csv', 'january_cut.csv', 'january_speed.csv', 'Jan_no_outlier.csv', 'K_MEANS.ipynb', 'Labeled_Test_Data', 'Labeled_Test_Data.csv', 'labeling_the_data.ipynb', 'Label_Data', 'label_data.ipynb', 'label_data.py', 'Label_Train_Data', 'Label_Train_Data.csv', 'last_nn.ipynb', 'last_rnn_speed.ipynb', 'last_svr.ipynb', 'LATEST', 'LATEST.csv', 'No_outlier.csv', 'png1.png', 'png2.png', 'processed_bursa01.csv.csv', 'Progress.txt', 'ProjectDM.ipynb', 'RandomForestClassifier.joblib', 'RandomForestClassifierMixed.joblib', 'RandomForestRegression.ipynb', 'random_forest_model.joblib', 'rectangle_data.csv', 'rfc_test.ipynb', 'rfr.pkl', 'rfr_classification.ipynb', 'rfr_test.ipynb', 'speed_prediction.ipynb', 'speed_prediction_model.keras', 'st_dbscan.py', 'SVR.ipynb', 'SVR2.ipynb', 'taxi_ID_data.csv', 'Test_data.csv', 'test_data_labeled.csv', 'test_data_labeling.ipynb', 'Train_data.csv', 'train_data_labeled.csv', 'understand.ipynb', '__pycache__']\n"
     ]
    }
   ],
   "source": [
    "import os\n",
    "print(os.listdir())\n"
   ]
  },
  {
   "cell_type": "code",
   "execution_count": 7,
   "metadata": {},
   "outputs": [],
   "source": [
    "model_filename2 = 'RandomForestClassifierMixed.joblib'\n",
    "model = joblib.load(model_filename2)"
   ]
  },
  {
   "cell_type": "code",
   "execution_count": 9,
   "metadata": {},
   "outputs": [
    {
     "name": "stdout",
     "output_type": "stream",
     "text": [
      "Results for bursa02_cleaned:\n",
      "Accuracy: 0.6402362593535154\n",
      "\n",
      "Results for bursa03_cleaned:\n",
      "Accuracy: 0.6565104649009076\n",
      "\n",
      "Results for bursa04_cleaned:\n",
      "Accuracy: 0.6511881817922889\n",
      "\n",
      "Results for bursa05_cleaned:\n",
      "Accuracy: 0.6561249798067146\n",
      "\n",
      "Results for bursa06_cleaned:\n",
      "Accuracy: 0.7636923076923077\n",
      "\n",
      "Results for bursa07_cleaned:\n",
      "Accuracy: 0.6877911763281515\n",
      "\n",
      "Results for bursa08_cleaned:\n",
      "Accuracy: 0.6716674233601136\n",
      "\n",
      "Results for bursa09_cleaned:\n",
      "Accuracy: 0.6356244538166343\n",
      "\n",
      "Results for bursa10_cleaned:\n",
      "Accuracy: 0.6313421256788208\n",
      "\n",
      "Results for bursa11_cleaned:\n",
      "Accuracy: 0.6218387356817457\n",
      "\n",
      "Results for bursa12_cleaned:\n",
      "Accuracy: 0.6157245705324684\n",
      "\n"
     ]
    }
   ],
   "source": [
    "for i in range(2, 13):  # Loop from bursa02_cleaned to bursa11_cleaned\n",
    "    file_name = f'bursa{i:02d}_cleaned'\n",
    "    X_test, y_test = load_data(file_name)\n",
    "    predictions = model.predict(X_test)\n",
    "\n",
    "    # Step 4: Evaluate Results\n",
    "    accuracy = accuracy_score(y_test, predictions)\n",
    "    print(f'Results for {file_name}:')\n",
    "    print(f'Accuracy: {accuracy}\\n')"
   ]
  },
  {
   "cell_type": "code",
   "execution_count": null,
   "metadata": {},
   "outputs": [],
   "source": []
  }
 ],
 "metadata": {
  "kernelspec": {
   "display_name": "Python 3",
   "language": "python",
   "name": "python3"
  },
  "language_info": {
   "codemirror_mode": {
    "name": "ipython",
    "version": 3
   },
   "file_extension": ".py",
   "mimetype": "text/x-python",
   "name": "python",
   "nbconvert_exporter": "python",
   "pygments_lexer": "ipython3",
   "version": "3.11.4"
  }
 },
 "nbformat": 4,
 "nbformat_minor": 2
}
