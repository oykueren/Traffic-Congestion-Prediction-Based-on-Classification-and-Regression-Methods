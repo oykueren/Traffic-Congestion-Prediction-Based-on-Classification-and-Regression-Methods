{
 "cells": [
  {
   "cell_type": "code",
   "execution_count": 1,
   "metadata": {},
   "outputs": [],
   "source": [
    "import os\n",
    "from data_cleaner import process_csv"
   ]
  },
  {
   "cell_type": "code",
   "execution_count": 2,
   "metadata": {},
   "outputs": [
    {
     "name": "stdout",
     "output_type": "stream",
     "text": [
      "Current Working Directory: c:\\Users\\ysrmhmt\\Desktop\\Lectures\\Data Mining\\Project\\Data Preperation\n",
      "Looking for file: bursadata\\bursa01.csv\n",
      "Processing bursadata\\bursa01.csv...\n",
      "Saved cleaned data to CleanedData\\bursa01_cleaned.csv\n",
      "Looking for file: bursadata\\bursa02.csv\n",
      "Processing bursadata\\bursa02.csv...\n",
      "Saved cleaned data to CleanedData\\bursa02_cleaned.csv\n",
      "Looking for file: bursadata\\bursa03.csv\n",
      "Processing bursadata\\bursa03.csv...\n",
      "Saved cleaned data to CleanedData\\bursa03_cleaned.csv\n",
      "Looking for file: bursadata\\bursa04.csv\n",
      "Processing bursadata\\bursa04.csv...\n",
      "Saved cleaned data to CleanedData\\bursa04_cleaned.csv\n",
      "Looking for file: bursadata\\bursa05.csv\n",
      "Processing bursadata\\bursa05.csv...\n",
      "Saved cleaned data to CleanedData\\bursa05_cleaned.csv\n",
      "Looking for file: bursadata\\bursa06.csv\n",
      "Processing bursadata\\bursa06.csv...\n",
      "Saved cleaned data to CleanedData\\bursa06_cleaned.csv\n",
      "Looking for file: bursadata\\bursa07.csv\n",
      "Processing bursadata\\bursa07.csv...\n",
      "Saved cleaned data to CleanedData\\bursa07_cleaned.csv\n",
      "Looking for file: bursadata\\bursa08.csv\n",
      "Processing bursadata\\bursa08.csv...\n",
      "Saved cleaned data to CleanedData\\bursa08_cleaned.csv\n",
      "Looking for file: bursadata\\bursa09.csv\n",
      "Processing bursadata\\bursa09.csv...\n",
      "Saved cleaned data to CleanedData\\bursa09_cleaned.csv\n",
      "Looking for file: bursadata\\bursa10.csv\n",
      "Processing bursadata\\bursa10.csv...\n",
      "Saved cleaned data to CleanedData\\bursa10_cleaned.csv\n",
      "Looking for file: bursadata\\bursa11.csv\n",
      "Processing bursadata\\bursa11.csv...\n",
      "Saved cleaned data to CleanedData\\bursa11_cleaned.csv\n",
      "Looking for file: bursadata\\bursa12.csv\n",
      "Processing bursadata\\bursa12.csv...\n",
      "Saved cleaned data to CleanedData\\bursa12_cleaned.csv\n"
     ]
    }
   ],
   "source": [
    "def batch_process_csv(input_folder, output_folder):\n",
    "    for i in range(1, 13):\n",
    "        input_file = os.path.join(input_folder, f\"bursa{str(i).zfill(2)}.csv\")\n",
    "        output_file = os.path.join(output_folder, f\"bursa{str(i).zfill(2)}_cleaned.csv\")\n",
    "\n",
    "        print(f\"Looking for file: {input_file}\")\n",
    "\n",
    "        if os.path.exists(input_file):\n",
    "            print(f\"Processing {input_file}...\")\n",
    "            process_csv(input_file, output_file)\n",
    "            print(f\"Saved cleaned data to {output_file}\")\n",
    "        else:\n",
    "            print(f\"File {input_file} not found.\")\n",
    "\n",
    "# Print current working directory for debugging\n",
    "print(f\"Current Working Directory: {os.getcwd()}\")\n",
    "\n",
    "# Folder paths\n",
    "input_folder = 'bursadata'\n",
    "output_folder = 'CleanedData'\n",
    "\n",
    "# Create output folder if it doesn't exist\n",
    "if not os.path.exists(output_folder):\n",
    "    os.makedirs(output_folder)\n",
    "\n",
    "# Process all files\n",
    "batch_process_csv(input_folder, output_folder)\n",
    "\n"
   ]
  }
 ],
 "metadata": {
  "kernelspec": {
   "display_name": "Python 3",
   "language": "python",
   "name": "python3"
  },
  "language_info": {
   "codemirror_mode": {
    "name": "ipython",
    "version": 3
   },
   "file_extension": ".py",
   "mimetype": "text/x-python",
   "name": "python",
   "nbconvert_exporter": "python",
   "pygments_lexer": "ipython3",
   "version": "3.11.4"
  }
 },
 "nbformat": 4,
 "nbformat_minor": 2
}
