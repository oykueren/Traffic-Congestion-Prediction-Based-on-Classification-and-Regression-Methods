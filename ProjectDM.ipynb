{
 "cells": [
  {
   "cell_type": "markdown",
   "id": "3ecf39f5-ef6c-4795-b278-e6cceb80bef4",
   "metadata": {
    "tags": []
   },
   "source": [
    "# YZV311E - DATA MINING 2023-FALL TERM PROJECT \n",
    "# AI-Based Traffic Congestion Prediction from Historical Traffic Dat"
   ]
  },
  {
   "cell_type": "code",
   "execution_count": 1,
   "id": "30f50079-b794-408c-9fea-f00eec36d0d4",
   "metadata": {
    "tags": []
   },
   "outputs": [],
   "source": [
    "import pandas as pd\n",
    "import numpy as np"
   ]
  },
  {
   "cell_type": "markdown",
   "id": "81d5d7f7-0fbe-4054-85fc-6865ba0a5666",
   "metadata": {},
   "source": [
    "#### Upload Data"
   ]
  },
  {
   "cell_type": "code",
   "execution_count": 2,
   "id": "73171302-822d-47d6-b486-f2138de1cb75",
   "metadata": {},
   "outputs": [],
   "source": [
    "file_path = \"C:\\\\Users\\\\ysrmhmt\\\\Desktop\\\\Lectures\\\\Data Mining\\\\freshbursa.csv\"\n",
    "df = pd.read_csv(file_path)\n"
   ]
  },
  {
   "cell_type": "code",
   "execution_count": 3,
   "id": "964d9673-c838-48de-88ef-412ce8a01ad2",
   "metadata": {
    "tags": []
   },
   "outputs": [
    {
     "data": {
      "text/html": [
       "<div>\n",
       "<style scoped>\n",
       "    .dataframe tbody tr th:only-of-type {\n",
       "        vertical-align: middle;\n",
       "    }\n",
       "\n",
       "    .dataframe tbody tr th {\n",
       "        vertical-align: top;\n",
       "    }\n",
       "\n",
       "    .dataframe thead th {\n",
       "        text-align: right;\n",
       "    }\n",
       "</style>\n",
       "<table border=\"1\" class=\"dataframe\">\n",
       "  <thead>\n",
       "    <tr style=\"text-align: right;\">\n",
       "      <th></th>\n",
       "      <th>Taxi ID</th>\n",
       "      <th>Timestamp</th>\n",
       "      <th>Speed (km/h)</th>\n",
       "      <th>Distance (m)</th>\n",
       "      <th>Linestring</th>\n",
       "    </tr>\n",
       "  </thead>\n",
       "  <tbody>\n",
       "    <tr>\n",
       "      <th>0</th>\n",
       "      <td>320</td>\n",
       "      <td>2019-01-01 00:00:03.260905+03</td>\n",
       "      <td>48</td>\n",
       "      <td>54</td>\n",
       "      <td>LINESTRING(28.95837 40.23293,28.95791 40.23328)</td>\n",
       "    </tr>\n",
       "    <tr>\n",
       "      <th>1</th>\n",
       "      <td>320</td>\n",
       "      <td>2019-01-01 00:00:07.224554+03</td>\n",
       "      <td>44</td>\n",
       "      <td>48</td>\n",
       "      <td>LINESTRING(28.95791 40.23328,28.9575 40.23359)</td>\n",
       "    </tr>\n",
       "    <tr>\n",
       "      <th>2</th>\n",
       "      <td>320</td>\n",
       "      <td>2019-01-01 00:00:11.240787+03</td>\n",
       "      <td>36</td>\n",
       "      <td>39</td>\n",
       "      <td>LINESTRING(28.9575 40.23359,28.95716 40.23384)</td>\n",
       "    </tr>\n",
       "    <tr>\n",
       "      <th>3</th>\n",
       "      <td>320</td>\n",
       "      <td>2019-01-01 00:00:15.22731+03</td>\n",
       "      <td>37</td>\n",
       "      <td>41</td>\n",
       "      <td>LINESTRING(28.95716 40.23384,28.9568 40.2341)</td>\n",
       "    </tr>\n",
       "    <tr>\n",
       "      <th>4</th>\n",
       "      <td>320</td>\n",
       "      <td>2019-01-01 00:00:19.231051+03</td>\n",
       "      <td>47</td>\n",
       "      <td>52</td>\n",
       "      <td>LINESTRING(28.9568 40.2341,28.95636 40.23443)</td>\n",
       "    </tr>\n",
       "    <tr>\n",
       "      <th>5</th>\n",
       "      <td>320</td>\n",
       "      <td>2019-01-01 00:00:23.235291+03</td>\n",
       "      <td>49</td>\n",
       "      <td>54</td>\n",
       "      <td>LINESTRING(28.95636 40.23443,28.9559 40.23478)</td>\n",
       "    </tr>\n",
       "    <tr>\n",
       "      <th>6</th>\n",
       "      <td>320</td>\n",
       "      <td>2019-01-01 00:00:27.265763+03</td>\n",
       "      <td>49</td>\n",
       "      <td>54</td>\n",
       "      <td>LINESTRING(28.9559 40.23478,28.95544 40.23513)</td>\n",
       "    </tr>\n",
       "    <tr>\n",
       "      <th>7</th>\n",
       "      <td>320</td>\n",
       "      <td>2019-01-01 00:00:31.357734+03</td>\n",
       "      <td>47</td>\n",
       "      <td>52</td>\n",
       "      <td>LINESTRING(28.95544 40.23513,28.955 40.23546)</td>\n",
       "    </tr>\n",
       "    <tr>\n",
       "      <th>8</th>\n",
       "      <td>320</td>\n",
       "      <td>2019-01-01 00:00:35.391992+03</td>\n",
       "      <td>48</td>\n",
       "      <td>53</td>\n",
       "      <td>LINESTRING(28.955 40.23546,28.95456 40.23581)</td>\n",
       "    </tr>\n",
       "    <tr>\n",
       "      <th>9</th>\n",
       "      <td>320</td>\n",
       "      <td>2019-01-01 00:00:39.371636+03</td>\n",
       "      <td>46</td>\n",
       "      <td>50</td>\n",
       "      <td>LINESTRING(28.95456 40.23581,28.95417 40.23616)</td>\n",
       "    </tr>\n",
       "  </tbody>\n",
       "</table>\n",
       "</div>"
      ],
      "text/plain": [
       "   Taxi ID                      Timestamp  Speed (km/h)  Distance (m)  \\\n",
       "0      320  2019-01-01 00:00:03.260905+03            48            54   \n",
       "1      320  2019-01-01 00:00:07.224554+03            44            48   \n",
       "2      320  2019-01-01 00:00:11.240787+03            36            39   \n",
       "3      320   2019-01-01 00:00:15.22731+03            37            41   \n",
       "4      320  2019-01-01 00:00:19.231051+03            47            52   \n",
       "5      320  2019-01-01 00:00:23.235291+03            49            54   \n",
       "6      320  2019-01-01 00:00:27.265763+03            49            54   \n",
       "7      320  2019-01-01 00:00:31.357734+03            47            52   \n",
       "8      320  2019-01-01 00:00:35.391992+03            48            53   \n",
       "9      320  2019-01-01 00:00:39.371636+03            46            50   \n",
       "\n",
       "                                        Linestring  \n",
       "0  LINESTRING(28.95837 40.23293,28.95791 40.23328)  \n",
       "1   LINESTRING(28.95791 40.23328,28.9575 40.23359)  \n",
       "2   LINESTRING(28.9575 40.23359,28.95716 40.23384)  \n",
       "3    LINESTRING(28.95716 40.23384,28.9568 40.2341)  \n",
       "4    LINESTRING(28.9568 40.2341,28.95636 40.23443)  \n",
       "5   LINESTRING(28.95636 40.23443,28.9559 40.23478)  \n",
       "6   LINESTRING(28.9559 40.23478,28.95544 40.23513)  \n",
       "7    LINESTRING(28.95544 40.23513,28.955 40.23546)  \n",
       "8    LINESTRING(28.955 40.23546,28.95456 40.23581)  \n",
       "9  LINESTRING(28.95456 40.23581,28.95417 40.23616)  "
      ]
     },
     "execution_count": 3,
     "metadata": {},
     "output_type": "execute_result"
    }
   ],
   "source": [
    "df.head(10)"
   ]
  },
  {
   "cell_type": "markdown",
   "id": "2125a451-fc57-48ee-8ea4-eb7951bd8211",
   "metadata": {},
   "source": [
    "#### Transform Data"
   ]
  },
  {
   "cell_type": "markdown",
   "id": "5117d43b-6a77-43fa-adfe-0b5da4b13d53",
   "metadata": {
    "tags": []
   },
   "source": [
    "##### Reformat the column \"Linestring\""
   ]
  },
  {
   "cell_type": "code",
   "execution_count": 4,
   "id": "aeffeefd-8323-40f1-9a16-3719a186e477",
   "metadata": {
    "tags": []
   },
   "outputs": [],
   "source": [
    "#remove unnecessary string\n",
    "df[\"Linestring\"] = df[\"Linestring\"].str.replace(\"(\", \"\")\n",
    "df[\"Linestring\"] = df[\"Linestring\"].str.replace(\")\", \"\")\n",
    "df[\"Linestring\"] = df[\"Linestring\"].str.replace(\"LINESTRING\" , \"\")\n",
    "\n",
    "#split coordinates and create array\n",
    "df[\"Linestring\"] = df[\"Linestring\"].str.split(r',|\\s+')\n",
    "\n",
    "#rename the column\n",
    "df = df.rename(columns={\"Linestring\": \"Coordinates\"})"
   ]
  },
  {
   "cell_type": "code",
   "execution_count": 5,
   "id": "373343db-2b23-4c6b-b9db-24e1df8cd122",
   "metadata": {
    "tags": []
   },
   "outputs": [
    {
     "data": {
      "text/plain": [
       "Index(['Taxi ID', 'Timestamp', 'Speed (km/h)', 'Distance (m)', 'Coordinates'], dtype='object')"
      ]
     },
     "execution_count": 5,
     "metadata": {},
     "output_type": "execute_result"
    }
   ],
   "source": [
    "df.columns"
   ]
  },
  {
   "cell_type": "markdown",
   "id": "630418ac-92f6-4f50-9743-30b02ef98ec6",
   "metadata": {
    "tags": []
   },
   "source": [
    "##### Convert to rows with 4 coordinates"
   ]
  },
  {
   "cell_type": "code",
   "execution_count": 6,
   "id": "a9f401bc-f35e-40ae-9b61-2362f7f0652b",
   "metadata": {
    "tags": []
   },
   "outputs": [],
   "source": [
    "#Create new array to work with rows which has more than 4 coordinates. It will make easier and less computational\n",
    "indices_of_repetition = []\n",
    "for i in df.index:\n",
    "    # df[\"Coordinates\"][i] = [float(element) for element in df[\"Coordinates\"][i]]\n",
    "    if len(df[\"Coordinates\"][i]) > 4:\n",
    "        indices_of_repetition.append(i)\n",
    "            \n",
    "new_df = df.loc[indices_of_repetition]\n",
    "\n",
    "#drop the rows from df\n",
    "df.drop(indices_of_repetition, inplace=True)\n",
    "\n",
    "#reset the index after dropping rows\n",
    "df.reset_index(drop=True, inplace=True)"
   ]
  },
  {
   "cell_type": "code",
   "execution_count": 7,
   "id": "f380305d-fe41-43ee-a3f0-bbe4c627c94c",
   "metadata": {
    "tags": []
   },
   "outputs": [
    {
     "data": {
      "text/html": [
       "<div>\n",
       "<style scoped>\n",
       "    .dataframe tbody tr th:only-of-type {\n",
       "        vertical-align: middle;\n",
       "    }\n",
       "\n",
       "    .dataframe tbody tr th {\n",
       "        vertical-align: top;\n",
       "    }\n",
       "\n",
       "    .dataframe thead th {\n",
       "        text-align: right;\n",
       "    }\n",
       "</style>\n",
       "<table border=\"1\" class=\"dataframe\">\n",
       "  <thead>\n",
       "    <tr style=\"text-align: right;\">\n",
       "      <th></th>\n",
       "      <th>Taxi ID</th>\n",
       "      <th>Timestamp</th>\n",
       "      <th>Speed (km/h)</th>\n",
       "      <th>Distance (m)</th>\n",
       "      <th>Coordinates</th>\n",
       "    </tr>\n",
       "  </thead>\n",
       "  <tbody>\n",
       "    <tr>\n",
       "      <th>10</th>\n",
       "      <td>320</td>\n",
       "      <td>2019-01-01 00:00:43.374386+03</td>\n",
       "      <td>36</td>\n",
       "      <td>12</td>\n",
       "      <td>[28.95417, 40.23616, 28.95409, 40.23625, 28.95...</td>\n",
       "    </tr>\n",
       "    <tr>\n",
       "      <th>11</th>\n",
       "      <td>320</td>\n",
       "      <td>2019-01-01 00:00:47.387559+03</td>\n",
       "      <td>32</td>\n",
       "      <td>9</td>\n",
       "      <td>[28.95399, 40.2365, 28.95392, 40.23657, 28.953...</td>\n",
       "    </tr>\n",
       "    <tr>\n",
       "      <th>12</th>\n",
       "      <td>320</td>\n",
       "      <td>2019-01-01 00:00:51.388046+03</td>\n",
       "      <td>39</td>\n",
       "      <td>10</td>\n",
       "      <td>[28.95363, 40.23666, 28.95351, 40.23667, 28.95...</td>\n",
       "    </tr>\n",
       "    <tr>\n",
       "      <th>18</th>\n",
       "      <td>320</td>\n",
       "      <td>2019-01-01 00:01:15.441994+03</td>\n",
       "      <td>36</td>\n",
       "      <td>30</td>\n",
       "      <td>[28.95063, 40.23873, 28.95033, 40.23889, 28.95...</td>\n",
       "    </tr>\n",
       "    <tr>\n",
       "      <th>19</th>\n",
       "      <td>320</td>\n",
       "      <td>2019-01-01 00:01:19.445403+03</td>\n",
       "      <td>23</td>\n",
       "      <td>5</td>\n",
       "      <td>[28.95026, 40.23895, 28.95025, 40.239, 28.9502...</td>\n",
       "    </tr>\n",
       "    <tr>\n",
       "      <th>...</th>\n",
       "      <td>...</td>\n",
       "      <td>...</td>\n",
       "      <td>...</td>\n",
       "      <td>...</td>\n",
       "      <td>...</td>\n",
       "    </tr>\n",
       "    <tr>\n",
       "      <th>1048566</th>\n",
       "      <td>881</td>\n",
       "      <td>2019-01-02 10:58:33.518337+03</td>\n",
       "      <td>0</td>\n",
       "      <td>2</td>\n",
       "      <td>[29.0637, 40.17657, 29.06368, 40.17659, 29.063...</td>\n",
       "    </tr>\n",
       "    <tr>\n",
       "      <th>1048569</th>\n",
       "      <td>881</td>\n",
       "      <td>2019-01-02 11:00:03.559054+03</td>\n",
       "      <td>0</td>\n",
       "      <td>1</td>\n",
       "      <td>[29.06379, 40.17653, 29.0638, 40.17652, 29.063...</td>\n",
       "    </tr>\n",
       "    <tr>\n",
       "      <th>1048570</th>\n",
       "      <td>881</td>\n",
       "      <td>2019-01-02 11:00:33.551994+03</td>\n",
       "      <td>1</td>\n",
       "      <td>0</td>\n",
       "      <td>[29.06377, 40.17653, 29.06378, 40.17653, 29.06...</td>\n",
       "    </tr>\n",
       "    <tr>\n",
       "      <th>1048572</th>\n",
       "      <td>881</td>\n",
       "      <td>2019-01-02 11:01:33.542553+03</td>\n",
       "      <td>1</td>\n",
       "      <td>1</td>\n",
       "      <td>[29.06376, 40.17656, 29.06375, 40.17657, 29.06...</td>\n",
       "    </tr>\n",
       "    <tr>\n",
       "      <th>1048573</th>\n",
       "      <td>881</td>\n",
       "      <td>2019-01-02 11:02:03.599088+03</td>\n",
       "      <td>0</td>\n",
       "      <td>3</td>\n",
       "      <td>[29.06381, 40.17652, 29.06384, 40.1765, 29.063...</td>\n",
       "    </tr>\n",
       "  </tbody>\n",
       "</table>\n",
       "<p>297664 rows × 5 columns</p>\n",
       "</div>"
      ],
      "text/plain": [
       "         Taxi ID                      Timestamp  Speed (km/h)  Distance (m)  \\\n",
       "10           320  2019-01-01 00:00:43.374386+03            36            12   \n",
       "11           320  2019-01-01 00:00:47.387559+03            32             9   \n",
       "12           320  2019-01-01 00:00:51.388046+03            39            10   \n",
       "18           320  2019-01-01 00:01:15.441994+03            36            30   \n",
       "19           320  2019-01-01 00:01:19.445403+03            23             5   \n",
       "...          ...                            ...           ...           ...   \n",
       "1048566      881  2019-01-02 10:58:33.518337+03             0             2   \n",
       "1048569      881  2019-01-02 11:00:03.559054+03             0             1   \n",
       "1048570      881  2019-01-02 11:00:33.551994+03             1             0   \n",
       "1048572      881  2019-01-02 11:01:33.542553+03             1             1   \n",
       "1048573      881  2019-01-02 11:02:03.599088+03             0             3   \n",
       "\n",
       "                                               Coordinates  \n",
       "10       [28.95417, 40.23616, 28.95409, 40.23625, 28.95...  \n",
       "11       [28.95399, 40.2365, 28.95392, 40.23657, 28.953...  \n",
       "12       [28.95363, 40.23666, 28.95351, 40.23667, 28.95...  \n",
       "18       [28.95063, 40.23873, 28.95033, 40.23889, 28.95...  \n",
       "19       [28.95026, 40.23895, 28.95025, 40.239, 28.9502...  \n",
       "...                                                    ...  \n",
       "1048566  [29.0637, 40.17657, 29.06368, 40.17659, 29.063...  \n",
       "1048569  [29.06379, 40.17653, 29.0638, 40.17652, 29.063...  \n",
       "1048570  [29.06377, 40.17653, 29.06378, 40.17653, 29.06...  \n",
       "1048572  [29.06376, 40.17656, 29.06375, 40.17657, 29.06...  \n",
       "1048573  [29.06381, 40.17652, 29.06384, 40.1765, 29.063...  \n",
       "\n",
       "[297664 rows x 5 columns]"
      ]
     },
     "execution_count": 7,
     "metadata": {},
     "output_type": "execute_result"
    }
   ],
   "source": [
    "new_df"
   ]
  },
  {
   "cell_type": "code",
   "execution_count": 8,
   "id": "be57779c-5deb-416f-99d4-c3cfefefdd8f",
   "metadata": {
    "tags": []
   },
   "outputs": [],
   "source": [
    "#Divide the coordinates into 4 and create new rows\n",
    "new_rows = []\n",
    "\n",
    "# Iterate over rows in the new_df DataFrame\n",
    "for _, row in new_df.iterrows():\n",
    "    len_row = len(row[\"Coordinates\"])\n",
    "    n = 0\n",
    "    \n",
    "    # Iterate over pairs of coordinates with a step of 2\n",
    "    while n <= len_row - 4:\n",
    "        x1, x2, x3, x4 = row[\"Coordinates\"][n], row[\"Coordinates\"][n + 1], row[\"Coordinates\"][n + 2], row[\"Coordinates\"][n + 3]\n",
    "\n",
    "        \n",
    "        # Create a new row with the extracted coordinates\n",
    "        new_row = {\n",
    "            \"Taxi ID\": row[\"Taxi ID\"],\n",
    "            \"Timestamp\": row[\"Timestamp\"],\n",
    "            \"Speed (km/h)\": row[\"Speed (km/h)\"],\n",
    "            \"Distance (m)\": row[\"Distance (m)\"],\n",
    "            \"Coordinates\": [x1, x2, x3, x4]\n",
    "        }\n",
    "        \n",
    "        # Append the new row to the list\n",
    "        new_rows.append(new_row)\n",
    "        \n",
    "        n += 2\n"
   ]
  },
  {
   "cell_type": "code",
   "execution_count": 9,
   "id": "9d9c744a-57fb-4b82-b717-e100d4f8f847",
   "metadata": {
    "tags": []
   },
   "outputs": [],
   "source": [
    "# Append the new rows to the df DataFrame\n",
    "cor4_df = pd.DataFrame(new_rows)\n",
    "# Concatenate df and new_df\n",
    "df = pd.concat([df, cor4_df], ignore_index=True)"
   ]
  },
  {
   "cell_type": "code",
   "execution_count": 10,
   "id": "5377eac9-97a1-48d5-8b8d-f0174f1b40f3",
   "metadata": {
    "tags": []
   },
   "outputs": [
    {
     "data": {
      "text/html": [
       "<div>\n",
       "<style scoped>\n",
       "    .dataframe tbody tr th:only-of-type {\n",
       "        vertical-align: middle;\n",
       "    }\n",
       "\n",
       "    .dataframe tbody tr th {\n",
       "        vertical-align: top;\n",
       "    }\n",
       "\n",
       "    .dataframe thead th {\n",
       "        text-align: right;\n",
       "    }\n",
       "</style>\n",
       "<table border=\"1\" class=\"dataframe\">\n",
       "  <thead>\n",
       "    <tr style=\"text-align: right;\">\n",
       "      <th></th>\n",
       "      <th>Taxi ID</th>\n",
       "      <th>Timestamp</th>\n",
       "      <th>Speed (km/h)</th>\n",
       "      <th>Distance (m)</th>\n",
       "      <th>Coordinates</th>\n",
       "    </tr>\n",
       "  </thead>\n",
       "  <tbody>\n",
       "    <tr>\n",
       "      <th>0</th>\n",
       "      <td>320</td>\n",
       "      <td>2019-01-01 00:00:03.260905+03</td>\n",
       "      <td>48</td>\n",
       "      <td>54</td>\n",
       "      <td>[28.95837, 40.23293, 28.95791, 40.23328]</td>\n",
       "    </tr>\n",
       "    <tr>\n",
       "      <th>1</th>\n",
       "      <td>320</td>\n",
       "      <td>2019-01-01 00:00:07.224554+03</td>\n",
       "      <td>44</td>\n",
       "      <td>48</td>\n",
       "      <td>[28.95791, 40.23328, 28.9575, 40.23359]</td>\n",
       "    </tr>\n",
       "    <tr>\n",
       "      <th>2</th>\n",
       "      <td>320</td>\n",
       "      <td>2019-01-01 00:00:11.240787+03</td>\n",
       "      <td>36</td>\n",
       "      <td>39</td>\n",
       "      <td>[28.9575, 40.23359, 28.95716, 40.23384]</td>\n",
       "    </tr>\n",
       "    <tr>\n",
       "      <th>3</th>\n",
       "      <td>320</td>\n",
       "      <td>2019-01-01 00:00:15.22731+03</td>\n",
       "      <td>37</td>\n",
       "      <td>41</td>\n",
       "      <td>[28.95716, 40.23384, 28.9568, 40.2341]</td>\n",
       "    </tr>\n",
       "    <tr>\n",
       "      <th>4</th>\n",
       "      <td>320</td>\n",
       "      <td>2019-01-01 00:00:19.231051+03</td>\n",
       "      <td>47</td>\n",
       "      <td>52</td>\n",
       "      <td>[28.9568, 40.2341, 28.95636, 40.23443]</td>\n",
       "    </tr>\n",
       "    <tr>\n",
       "      <th>5</th>\n",
       "      <td>320</td>\n",
       "      <td>2019-01-01 00:00:23.235291+03</td>\n",
       "      <td>49</td>\n",
       "      <td>54</td>\n",
       "      <td>[28.95636, 40.23443, 28.9559, 40.23478]</td>\n",
       "    </tr>\n",
       "    <tr>\n",
       "      <th>6</th>\n",
       "      <td>320</td>\n",
       "      <td>2019-01-01 00:00:27.265763+03</td>\n",
       "      <td>49</td>\n",
       "      <td>54</td>\n",
       "      <td>[28.9559, 40.23478, 28.95544, 40.23513]</td>\n",
       "    </tr>\n",
       "    <tr>\n",
       "      <th>7</th>\n",
       "      <td>320</td>\n",
       "      <td>2019-01-01 00:00:31.357734+03</td>\n",
       "      <td>47</td>\n",
       "      <td>52</td>\n",
       "      <td>[28.95544, 40.23513, 28.955, 40.23546]</td>\n",
       "    </tr>\n",
       "    <tr>\n",
       "      <th>8</th>\n",
       "      <td>320</td>\n",
       "      <td>2019-01-01 00:00:35.391992+03</td>\n",
       "      <td>48</td>\n",
       "      <td>53</td>\n",
       "      <td>[28.955, 40.23546, 28.95456, 40.23581]</td>\n",
       "    </tr>\n",
       "    <tr>\n",
       "      <th>9</th>\n",
       "      <td>320</td>\n",
       "      <td>2019-01-01 00:00:39.371636+03</td>\n",
       "      <td>46</td>\n",
       "      <td>50</td>\n",
       "      <td>[28.95456, 40.23581, 28.95417, 40.23616]</td>\n",
       "    </tr>\n",
       "  </tbody>\n",
       "</table>\n",
       "</div>"
      ],
      "text/plain": [
       "   Taxi ID                      Timestamp  Speed (km/h)  Distance (m)  \\\n",
       "0      320  2019-01-01 00:00:03.260905+03            48            54   \n",
       "1      320  2019-01-01 00:00:07.224554+03            44            48   \n",
       "2      320  2019-01-01 00:00:11.240787+03            36            39   \n",
       "3      320   2019-01-01 00:00:15.22731+03            37            41   \n",
       "4      320  2019-01-01 00:00:19.231051+03            47            52   \n",
       "5      320  2019-01-01 00:00:23.235291+03            49            54   \n",
       "6      320  2019-01-01 00:00:27.265763+03            49            54   \n",
       "7      320  2019-01-01 00:00:31.357734+03            47            52   \n",
       "8      320  2019-01-01 00:00:35.391992+03            48            53   \n",
       "9      320  2019-01-01 00:00:39.371636+03            46            50   \n",
       "\n",
       "                                Coordinates  \n",
       "0  [28.95837, 40.23293, 28.95791, 40.23328]  \n",
       "1   [28.95791, 40.23328, 28.9575, 40.23359]  \n",
       "2   [28.9575, 40.23359, 28.95716, 40.23384]  \n",
       "3    [28.95716, 40.23384, 28.9568, 40.2341]  \n",
       "4    [28.9568, 40.2341, 28.95636, 40.23443]  \n",
       "5   [28.95636, 40.23443, 28.9559, 40.23478]  \n",
       "6   [28.9559, 40.23478, 28.95544, 40.23513]  \n",
       "7    [28.95544, 40.23513, 28.955, 40.23546]  \n",
       "8    [28.955, 40.23546, 28.95456, 40.23581]  \n",
       "9  [28.95456, 40.23581, 28.95417, 40.23616]  "
      ]
     },
     "execution_count": 10,
     "metadata": {},
     "output_type": "execute_result"
    }
   ],
   "source": [
    "df.head(10)"
   ]
  },
  {
   "cell_type": "code",
   "execution_count": 11,
   "metadata": {},
   "outputs": [],
   "source": [
    "df[['x1', 'y1', 'x2', 'y2']] = pd.DataFrame(df['Coordinates'].to_list(), index=df.index)\n",
    "df[['x1', 'y1', 'x2', 'y2']] = df[['x1', 'y1', 'x2', 'y2']].astype(float)"
   ]
  },
  {
   "cell_type": "code",
   "execution_count": 12,
   "metadata": {},
   "outputs": [],
   "source": [
    "new = pd.concat([df[\"Taxi ID\"], df['x1'], df['y1']], axis=1)\n"
   ]
  },
  {
   "cell_type": "code",
   "execution_count": 13,
   "metadata": {},
   "outputs": [
    {
     "data": {
      "text/html": [
       "<div>\n",
       "<style scoped>\n",
       "    .dataframe tbody tr th:only-of-type {\n",
       "        vertical-align: middle;\n",
       "    }\n",
       "\n",
       "    .dataframe tbody tr th {\n",
       "        vertical-align: top;\n",
       "    }\n",
       "\n",
       "    .dataframe thead th {\n",
       "        text-align: right;\n",
       "    }\n",
       "</style>\n",
       "<table border=\"1\" class=\"dataframe\">\n",
       "  <thead>\n",
       "    <tr style=\"text-align: right;\">\n",
       "      <th></th>\n",
       "      <th>Taxi ID</th>\n",
       "      <th>x1</th>\n",
       "      <th>y1</th>\n",
       "    </tr>\n",
       "  </thead>\n",
       "  <tbody>\n",
       "    <tr>\n",
       "      <th>0</th>\n",
       "      <td>320</td>\n",
       "      <td>28.95837</td>\n",
       "      <td>40.23293</td>\n",
       "    </tr>\n",
       "    <tr>\n",
       "      <th>1</th>\n",
       "      <td>320</td>\n",
       "      <td>28.95791</td>\n",
       "      <td>40.23328</td>\n",
       "    </tr>\n",
       "    <tr>\n",
       "      <th>2</th>\n",
       "      <td>320</td>\n",
       "      <td>28.95750</td>\n",
       "      <td>40.23359</td>\n",
       "    </tr>\n",
       "    <tr>\n",
       "      <th>3</th>\n",
       "      <td>320</td>\n",
       "      <td>28.95716</td>\n",
       "      <td>40.23384</td>\n",
       "    </tr>\n",
       "    <tr>\n",
       "      <th>4</th>\n",
       "      <td>320</td>\n",
       "      <td>28.95680</td>\n",
       "      <td>40.23410</td>\n",
       "    </tr>\n",
       "  </tbody>\n",
       "</table>\n",
       "</div>"
      ],
      "text/plain": [
       "   Taxi ID        x1        y1\n",
       "0      320  28.95837  40.23293\n",
       "1      320  28.95791  40.23328\n",
       "2      320  28.95750  40.23359\n",
       "3      320  28.95716  40.23384\n",
       "4      320  28.95680  40.23410"
      ]
     },
     "execution_count": 13,
     "metadata": {},
     "output_type": "execute_result"
    }
   ],
   "source": [
    "new.head()"
   ]
  },
  {
   "cell_type": "code",
   "execution_count": 14,
   "metadata": {},
   "outputs": [],
   "source": [
    "# df[\"Longitude\"] = (df[\"x1\"] + df[\"x2\"]) / 2\n",
    "# df[\"Latitude\"] = (df[\"y1\"] + df[\"y2\"]) / 2\n",
    "\n",
    "df[\"Longitude\"] = df[\"x1\"]\n",
    "df[\"Latitude\"] = df[\"y1\"]\n",
    "df = df.drop(['x1', 'y1', 'x2', 'y2', 'Coordinates'], axis=1)"
   ]
  },
  {
   "cell_type": "code",
   "execution_count": 15,
   "metadata": {},
   "outputs": [],
   "source": [
    "df.to_csv(\"Clean_Data\", index=False)"
   ]
  }
 ],
 "metadata": {
  "kernelspec": {
   "display_name": "Python 3 (ipykernel)",
   "language": "python",
   "name": "python3"
  },
  "language_info": {
   "codemirror_mode": {
    "name": "ipython",
    "version": 3
   },
   "file_extension": ".py",
   "mimetype": "text/x-python",
   "name": "python",
   "nbconvert_exporter": "python",
   "pygments_lexer": "ipython3",
   "version": "3.11.4"
  }
 },
 "nbformat": 4,
 "nbformat_minor": 5
}
